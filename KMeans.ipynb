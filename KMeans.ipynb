{
 "cells": [
  {
   "cell_type": "markdown",
   "metadata": {
    "collapsed": true
   },
   "source": [
    "### Section 1\n",
    "#### Explanation of the choice of the dataset\n",
    "\n",
    "#### Information of the dataset\n",
    "1. Features (from https://developer.spotify.com/documentation/web-api/reference/tracks/get-audio-features/):\n",
    " - **duration_ms** - The duration of the track in milliseconds.\n",
    " - **key** - The estimated overall key of the track. Integers map to pitches using standard Pitch Class notation . E.g. 0 = C, 1 = C♯/D♭, 2 = D, and so on. If no key was detected, the value is -1.\n",
    " - **mode** - Mode indicates the modality (major or minor) of a track, the type of scale from which its melodic content is derived. Major is represented by 1 and minor is 0.\n",
    " - **time_signature** - An estimated overall time signature of a track. The time signature (meter) is a notational convention to specify how many beats are in each bar (or measure).\n",
    " - **acousticness** - A confidence measure from 0.0 to 1.0 of whether the track is acoustic. 1.0 represents high confidence the track is acoustic.\n",
    " - **danceability** - Danceability describes how suitable a track is for dancing based on a combination of musical elements including tempo, rhythm stability, beat strength, and overall regularity. A value of 0.0 is least danceable and 1.0 is most danceable. \n",
    " - **energy** - Energy is a measure from 0.0 to 1.0 and represents a perceptual measure of intensity and activity. Typically, energetic tracks feel fast, loud, and noisy. For example, death metal has high energy, while a Bach prelude scores low on the scale. Perceptual features contributing to this attribute include dynamic range, perceived loudness, timbre, onset rate, and general entropy. The distribution of values for this feature look like this: Energy distribution\n",
    " - **instrumentalness** - Predicts whether a track contains no vocals. “Ooh” and “aah” sounds are treated as instrumental in this context. Rap or spoken word tracks are clearly “vocal”. The closer the instrumentalness value is to 1.0, the greater likelihood the track contains no vocal content. Values above 0.5 are intended to represent instrumental tracks, but confidence is higher as the value approaches 1.0.\n",
    " - **liveness** - Detects the presence of an audience in the recording. Higher liveness values represent an increased probability that the track was performed live. A value above 0.8 provides strong likelihood that the track is live.\n",
    " - **loudness** - The overall loudness of a track in decibels (dB). Loudness values are averaged across the entire track and are useful for comparing relative loudness of tracks. Loudness is the quality of a sound that is the primary psychological correlate of physical strength (amplitude). Values typical range between -60 and 0 db.\n",
    " - **speechiness** - Speechiness detects the presence of spoken words in a track. The more exclusively speech-like the recording (e.g. talk show, audio book, poetry), the closer to 1.0 the attribute value. Values above 0.66 describe tracks that are probably made entirely of spoken words. Values between 0.33 and 0.66 describe tracks that may contain both music and speech, either in sections or layered, including such cases as rap music. Values below 0.33 most likely represent music and other non-speech-like tracks.\n",
    " - **valence** - A measure from 0.0 to 1.0 describing the musical positiveness conveyed by a track. Tracks with high valence sound more positive (e.g. happy, cheerful, euphoric), while tracks with low valence sound more negative (e.g. sad, depressed, angry).\n",
    " - **tempo** - The overall estimated tempo of a track in beats per minute (BPM). In musical terminology, tempo is the speed or pace of a given piece and derives directly from the average beat duration. \n",
    " - **id** - The Spotify ID for the track.\n",
    " - **type** - The object type: “audio_features”\n",
    " - **popularity** - The popularity of the track. The value will be between 0 and 100, with 100 being the most popular. The popularity is calculated by algorithm and is based, in the most part, on the total number of plays the track has had and how recent those plays are. Generally speaking, songs that are being played a lot now will have a higher popularity than songs that were played a lot in the past. Artist and album popularity is derived mathematically from track popularity. Note that the popularity value may lag actual popularity by a few days: the value is not updated in real time.\n",
    "\n",
    "2. Number of entities: **6908**\n",
    "3. Source address: https://www.kaggle.com/yamaerenay/spotify-dataset-19212020-160k-tracks\n",
    "4. Examples of problems: **Time-Series Analysis, Artist Recommendation, Popularity rating Prediction, Genre Differentiation, Hit Prediction**.\n"
   ]
  },
  {
   "cell_type": "code",
   "execution_count": 7,
   "metadata": {},
   "outputs": [
    {
     "data": {
      "text/html": [
       "<div>\n",
       "<style scoped>\n",
       "    .dataframe tbody tr th:only-of-type {\n",
       "        vertical-align: middle;\n",
       "    }\n",
       "\n",
       "    .dataframe tbody tr th {\n",
       "        vertical-align: top;\n",
       "    }\n",
       "\n",
       "    .dataframe thead th {\n",
       "        text-align: right;\n",
       "    }\n",
       "</style>\n",
       "<table border=\"1\" class=\"dataframe\">\n",
       "  <thead>\n",
       "    <tr style=\"text-align: right;\">\n",
       "      <th></th>\n",
       "      <th>danceability</th>\n",
       "      <th>energy</th>\n",
       "      <th>key</th>\n",
       "      <th>loudness</th>\n",
       "      <th>mode</th>\n",
       "      <th>speechiness</th>\n",
       "      <th>acousticness</th>\n",
       "      <th>instrumentalness</th>\n",
       "      <th>liveness</th>\n",
       "      <th>valence</th>\n",
       "      <th>tempo</th>\n",
       "      <th>duration_ms</th>\n",
       "      <th>time_signature</th>\n",
       "      <th>chorus_hit</th>\n",
       "      <th>sections</th>\n",
       "      <th>target</th>\n",
       "    </tr>\n",
       "  </thead>\n",
       "  <tbody>\n",
       "    <tr>\n",
       "      <th>count</th>\n",
       "      <td>6908.000000</td>\n",
       "      <td>6908.000000</td>\n",
       "      <td>6908.000000</td>\n",
       "      <td>6908.000000</td>\n",
       "      <td>6908.000000</td>\n",
       "      <td>6908.000000</td>\n",
       "      <td>6908.000000</td>\n",
       "      <td>6908.000000</td>\n",
       "      <td>6908.000000</td>\n",
       "      <td>6908.000000</td>\n",
       "      <td>6908.000000</td>\n",
       "      <td>6.908000e+03</td>\n",
       "      <td>6908.000000</td>\n",
       "      <td>6908.000000</td>\n",
       "      <td>6908.000000</td>\n",
       "      <td>6908.000000</td>\n",
       "    </tr>\n",
       "    <tr>\n",
       "      <th>mean</th>\n",
       "      <td>0.564258</td>\n",
       "      <td>0.608037</td>\n",
       "      <td>5.233353</td>\n",
       "      <td>-11.041894</td>\n",
       "      <td>0.687609</td>\n",
       "      <td>0.057906</td>\n",
       "      <td>0.293067</td>\n",
       "      <td>0.139863</td>\n",
       "      <td>0.201009</td>\n",
       "      <td>0.587922</td>\n",
       "      <td>120.649572</td>\n",
       "      <td>2.547564e+05</td>\n",
       "      <td>3.926317</td>\n",
       "      <td>39.755172</td>\n",
       "      <td>11.277649</td>\n",
       "      <td>0.500000</td>\n",
       "    </tr>\n",
       "    <tr>\n",
       "      <th>std</th>\n",
       "      <td>0.173084</td>\n",
       "      <td>0.242962</td>\n",
       "      <td>3.597246</td>\n",
       "      <td>4.681166</td>\n",
       "      <td>0.463502</td>\n",
       "      <td>0.057768</td>\n",
       "      <td>0.302950</td>\n",
       "      <td>0.288144</td>\n",
       "      <td>0.181664</td>\n",
       "      <td>0.263604</td>\n",
       "      <td>27.108127</td>\n",
       "      <td>1.073213e+05</td>\n",
       "      <td>0.356433</td>\n",
       "      <td>19.136360</td>\n",
       "      <td>4.472095</td>\n",
       "      <td>0.500036</td>\n",
       "    </tr>\n",
       "    <tr>\n",
       "      <th>min</th>\n",
       "      <td>0.065600</td>\n",
       "      <td>0.000276</td>\n",
       "      <td>0.000000</td>\n",
       "      <td>-39.940000</td>\n",
       "      <td>0.000000</td>\n",
       "      <td>0.022300</td>\n",
       "      <td>0.000001</td>\n",
       "      <td>0.000000</td>\n",
       "      <td>0.018600</td>\n",
       "      <td>0.000010</td>\n",
       "      <td>39.002000</td>\n",
       "      <td>2.951400e+04</td>\n",
       "      <td>1.000000</td>\n",
       "      <td>0.000000</td>\n",
       "      <td>1.000000</td>\n",
       "      <td>0.000000</td>\n",
       "    </tr>\n",
       "    <tr>\n",
       "      <th>25%</th>\n",
       "      <td>0.455000</td>\n",
       "      <td>0.436000</td>\n",
       "      <td>2.000000</td>\n",
       "      <td>-13.451000</td>\n",
       "      <td>0.000000</td>\n",
       "      <td>0.032700</td>\n",
       "      <td>0.033375</td>\n",
       "      <td>0.000003</td>\n",
       "      <td>0.084900</td>\n",
       "      <td>0.383000</td>\n",
       "      <td>102.608500</td>\n",
       "      <td>2.045468e+05</td>\n",
       "      <td>4.000000</td>\n",
       "      <td>27.441758</td>\n",
       "      <td>9.000000</td>\n",
       "      <td>0.000000</td>\n",
       "    </tr>\n",
       "    <tr>\n",
       "      <th>50%</th>\n",
       "      <td>0.582000</td>\n",
       "      <td>0.637000</td>\n",
       "      <td>5.000000</td>\n",
       "      <td>-10.662000</td>\n",
       "      <td>1.000000</td>\n",
       "      <td>0.040600</td>\n",
       "      <td>0.172000</td>\n",
       "      <td>0.000321</td>\n",
       "      <td>0.131000</td>\n",
       "      <td>0.622000</td>\n",
       "      <td>119.546000</td>\n",
       "      <td>2.418600e+05</td>\n",
       "      <td>4.000000</td>\n",
       "      <td>35.581815</td>\n",
       "      <td>11.000000</td>\n",
       "      <td>0.500000</td>\n",
       "    </tr>\n",
       "    <tr>\n",
       "      <th>75%</th>\n",
       "      <td>0.690000</td>\n",
       "      <td>0.809000</td>\n",
       "      <td>9.000000</td>\n",
       "      <td>-7.640250</td>\n",
       "      <td>1.000000</td>\n",
       "      <td>0.058000</td>\n",
       "      <td>0.499000</td>\n",
       "      <td>0.045250</td>\n",
       "      <td>0.266000</td>\n",
       "      <td>0.811000</td>\n",
       "      <td>135.175250</td>\n",
       "      <td>2.870168e+05</td>\n",
       "      <td>4.000000</td>\n",
       "      <td>47.318412</td>\n",
       "      <td>13.000000</td>\n",
       "      <td>1.000000</td>\n",
       "    </tr>\n",
       "    <tr>\n",
       "      <th>max</th>\n",
       "      <td>0.988000</td>\n",
       "      <td>1.000000</td>\n",
       "      <td>11.000000</td>\n",
       "      <td>-0.683000</td>\n",
       "      <td>1.000000</td>\n",
       "      <td>0.903000</td>\n",
       "      <td>0.996000</td>\n",
       "      <td>1.000000</td>\n",
       "      <td>0.997000</td>\n",
       "      <td>0.990000</td>\n",
       "      <td>217.396000</td>\n",
       "      <td>2.223827e+06</td>\n",
       "      <td>5.000000</td>\n",
       "      <td>433.182000</td>\n",
       "      <td>73.000000</td>\n",
       "      <td>1.000000</td>\n",
       "    </tr>\n",
       "  </tbody>\n",
       "</table>\n",
       "</div>"
      ],
      "text/plain": [
       "       danceability       energy          key     loudness         mode  \\\n",
       "count   6908.000000  6908.000000  6908.000000  6908.000000  6908.000000   \n",
       "mean       0.564258     0.608037     5.233353   -11.041894     0.687609   \n",
       "std        0.173084     0.242962     3.597246     4.681166     0.463502   \n",
       "min        0.065600     0.000276     0.000000   -39.940000     0.000000   \n",
       "25%        0.455000     0.436000     2.000000   -13.451000     0.000000   \n",
       "50%        0.582000     0.637000     5.000000   -10.662000     1.000000   \n",
       "75%        0.690000     0.809000     9.000000    -7.640250     1.000000   \n",
       "max        0.988000     1.000000    11.000000    -0.683000     1.000000   \n",
       "\n",
       "       speechiness  acousticness  instrumentalness     liveness      valence  \\\n",
       "count  6908.000000   6908.000000       6908.000000  6908.000000  6908.000000   \n",
       "mean      0.057906      0.293067          0.139863     0.201009     0.587922   \n",
       "std       0.057768      0.302950          0.288144     0.181664     0.263604   \n",
       "min       0.022300      0.000001          0.000000     0.018600     0.000010   \n",
       "25%       0.032700      0.033375          0.000003     0.084900     0.383000   \n",
       "50%       0.040600      0.172000          0.000321     0.131000     0.622000   \n",
       "75%       0.058000      0.499000          0.045250     0.266000     0.811000   \n",
       "max       0.903000      0.996000          1.000000     0.997000     0.990000   \n",
       "\n",
       "             tempo   duration_ms  time_signature   chorus_hit     sections  \\\n",
       "count  6908.000000  6.908000e+03     6908.000000  6908.000000  6908.000000   \n",
       "mean    120.649572  2.547564e+05        3.926317    39.755172    11.277649   \n",
       "std      27.108127  1.073213e+05        0.356433    19.136360     4.472095   \n",
       "min      39.002000  2.951400e+04        1.000000     0.000000     1.000000   \n",
       "25%     102.608500  2.045468e+05        4.000000    27.441758     9.000000   \n",
       "50%     119.546000  2.418600e+05        4.000000    35.581815    11.000000   \n",
       "75%     135.175250  2.870168e+05        4.000000    47.318412    13.000000   \n",
       "max     217.396000  2.223827e+06        5.000000   433.182000    73.000000   \n",
       "\n",
       "            target  \n",
       "count  6908.000000  \n",
       "mean      0.500000  \n",
       "std       0.500036  \n",
       "min       0.000000  \n",
       "25%       0.000000  \n",
       "50%       0.500000  \n",
       "75%       1.000000  \n",
       "max       1.000000  "
      ]
     },
     "execution_count": 7,
     "metadata": {},
     "output_type": "execute_result"
    }
   ],
   "source": [
    "import numpy as np\n",
    "import pandas as pd\n",
    "\n",
    "spotify_data = pd.read_csv('dataset-of-80s.csv')\n",
    "spotify_data.describe()"
   ]
  },
  {
   "cell_type": "markdown",
   "metadata": {
    "pycharm": {
     "name": "#%% md\n"
    }
   },
   "source": [
    "### K-Means\n",
    "We will choose such features, that our clusters will interprete genres of songs.\n",
    "Let it be danceability, energy, loudness and tempo.\n"
   ]
  },
  {
   "cell_type": "code",
   "execution_count": null,
   "outputs": [],
   "source": [
    "import numpy as np\n",
    "import pandas as pd\n",
    "from matplotlib import pyplot as plt\n",
    "from sklearn.cluster import KMeans"
   ],
   "metadata": {
    "collapsed": false,
    "pycharm": {
     "name": "#%%\n"
    }
   }
  },
  {
   "cell_type": "code",
   "execution_count": null,
   "outputs": [],
   "source": [
    "spotify_4_feat = spotify_data[['danceability','energy','loudness','tempo']]\n",
    "kmeans = KMeans(n_clusters=4)\n",
    "target = kmeans.fit_predict(spotify_4_feat)\n",
    "# spotify_4_feat['Cluster'] = target\n",
    "print(spotify_4_feat.head())"
   ],
   "metadata": {
    "collapsed": false,
    "pycharm": {
     "name": "#%%\n"
    }
   }
  },
  {
   "cell_type": "code",
   "execution_count": null,
   "outputs": [],
   "source": [
    "wcss = []\n",
    "for i in range(1, 11):\n",
    "    kmeans = KMeans(n_clusters=i, init='k-means++', max_iter=300, n_init=10, random_state=0)\n",
    "    kmeans.fit(spotify_4_feat)\n",
    "    wcss.append(kmeans.inertia_)\n",
    "plt.plot(range(1, 11), wcss)\n",
    "plt.title('Elbow Method')\n",
    "plt.xlabel('Number of clusters')\n",
    "plt.ylabel('WCSS')\n",
    "plt.show()"
   ],
   "metadata": {
    "collapsed": false,
    "pycharm": {
     "name": "#%%\n"
    }
   }
  },
  {
   "cell_type": "code",
   "execution_count": null,
   "outputs": [],
   "source": [],
   "metadata": {
    "collapsed": false,
    "pycharm": {
     "name": "#%%\n"
    }
   }
  },
  {
   "cell_type": "code",
   "execution_count": null,
   "outputs": [],
   "source": [],
   "metadata": {
    "collapsed": false,
    "pycharm": {
     "name": "#%%\n"
    }
   }
  },
  {
   "cell_type": "code",
   "execution_count": 10,
   "metadata": {},
   "outputs": [],
   "source": []
  },
  {
   "cell_type": "code",
   "execution_count": 17,
   "metadata": {},
   "outputs": [
    {
     "name": "stdout",
     "output_type": "stream",
     "text": [
      "   danceability  energy  loudness    tempo\n",
      "0         0.509   0.277   -14.323  101.157\n",
      "1         0.716   0.753    -5.682  120.141\n",
      "2         0.360   0.542   -13.885  116.831\n",
      "3         0.656   0.512   -11.872   97.500\n",
      "4         0.642   0.889    -5.620  163.351\n"
     ]
    }
   ],
   "source": [
    "spotify_4_feat = spotify_data[['danceability','energy','loudness','tempo']]\n",
    "kmeans = KMeans(n_clusters=4)\n",
    "target = kmeans.fit_predict(spotify_4_feat)\n",
    "# spotify_4_feat['Cluster'] = target\n",
    "print(spotify_4_feat.head())"
   ]
  },
  {
   "cell_type": "code",
   "execution_count": 18,
   "metadata": {},
   "outputs": [
    {
     "data": {
      "image/png": "[encoded data removed]",
      "text/plain": [
       "<Figure size 432x288 with 1 Axes>"
      ]
     },
     "metadata": {
      "needs_background": "light"
     },
     "output_type": "display_data"
    }
   ],
   "source": [
    "wcss = []\n",
    "for i in range(1, 11):\n",
    "    kmeans = KMeans(n_clusters=i, init='k-means++', max_iter=300, n_init=10, random_state=0)\n",
    "    kmeans.fit(spotify_4_feat)\n",
    "    wcss.append(kmeans.inertia_)\n",
    "plt.plot(range(1, 11), wcss)\n",
    "plt.title('Elbow Method')\n",
    "plt.xlabel('Number of clusters')\n",
    "plt.ylabel('WCSS')\n",
    "plt.show()"
   ]
  },
  {
   "cell_type": "code",
   "execution_count": 19,
   "metadata": {},
   "outputs": [
    {
     "ename": "TypeError",
     "evalue": "'(slice(None, None, None), 0)' is an invalid key",
     "output_type": "error",
     "traceback": [
      "\u001B[1;31m---------------------------------------------------------------------------\u001B[0m",
      "\u001B[1;31mTypeError\u001B[0m                                 Traceback (most recent call last)",
      "\u001B[1;32m<ipython-input-19-33739a025d71>\u001B[0m in \u001B[0;36m<module>\u001B[1;34m\u001B[0m\n\u001B[0;32m      1\u001B[0m \u001B[0mkmeans\u001B[0m \u001B[1;33m=\u001B[0m \u001B[0mKMeans\u001B[0m\u001B[1;33m(\u001B[0m\u001B[0mn_clusters\u001B[0m\u001B[1;33m=\u001B[0m\u001B[1;36m4\u001B[0m\u001B[1;33m,\u001B[0m \u001B[0minit\u001B[0m\u001B[1;33m=\u001B[0m\u001B[1;34m'k-means++'\u001B[0m\u001B[1;33m,\u001B[0m \u001B[0mmax_iter\u001B[0m\u001B[1;33m=\u001B[0m\u001B[1;36m300\u001B[0m\u001B[1;33m,\u001B[0m \u001B[0mn_init\u001B[0m\u001B[1;33m=\u001B[0m\u001B[1;36m10\u001B[0m\u001B[1;33m,\u001B[0m \u001B[0mrandom_state\u001B[0m\u001B[1;33m=\u001B[0m\u001B[1;36m0\u001B[0m\u001B[1;33m)\u001B[0m\u001B[1;33m\u001B[0m\u001B[1;33m\u001B[0m\u001B[0m\n\u001B[0;32m      2\u001B[0m \u001B[0mpred_y\u001B[0m \u001B[1;33m=\u001B[0m \u001B[0mkmeans\u001B[0m\u001B[1;33m.\u001B[0m\u001B[0mfit_predict\u001B[0m\u001B[1;33m(\u001B[0m\u001B[0mspotify_4_feat\u001B[0m\u001B[1;33m)\u001B[0m\u001B[1;33m\u001B[0m\u001B[1;33m\u001B[0m\u001B[0m\n\u001B[1;32m----> 3\u001B[1;33m \u001B[0mplt\u001B[0m\u001B[1;33m.\u001B[0m\u001B[0mscatter\u001B[0m\u001B[1;33m(\u001B[0m\u001B[0mspotify_4_feat\u001B[0m\u001B[1;33m[\u001B[0m\u001B[1;33m:\u001B[0m\u001B[1;33m,\u001B[0m\u001B[1;36m0\u001B[0m\u001B[1;33m]\u001B[0m\u001B[1;33m,\u001B[0m \u001B[0mspotify_4_feat\u001B[0m\u001B[1;33m[\u001B[0m\u001B[1;33m:\u001B[0m\u001B[1;33m,\u001B[0m\u001B[1;36m1\u001B[0m\u001B[1;33m]\u001B[0m\u001B[1;33m)\u001B[0m\u001B[1;33m\u001B[0m\u001B[1;33m\u001B[0m\u001B[0m\n\u001B[0m\u001B[0;32m      4\u001B[0m \u001B[0mplt\u001B[0m\u001B[1;33m.\u001B[0m\u001B[0mscatter\u001B[0m\u001B[1;33m(\u001B[0m\u001B[0mkmeans\u001B[0m\u001B[1;33m.\u001B[0m\u001B[0mcluster_centers_\u001B[0m\u001B[1;33m[\u001B[0m\u001B[1;33m:\u001B[0m\u001B[1;33m,\u001B[0m \u001B[1;36m0\u001B[0m\u001B[1;33m]\u001B[0m\u001B[1;33m,\u001B[0m \u001B[0mkmeans\u001B[0m\u001B[1;33m.\u001B[0m\u001B[0mcluster_centers_\u001B[0m\u001B[1;33m[\u001B[0m\u001B[1;33m:\u001B[0m\u001B[1;33m,\u001B[0m \u001B[1;36m1\u001B[0m\u001B[1;33m]\u001B[0m\u001B[1;33m,\u001B[0m \u001B[0ms\u001B[0m\u001B[1;33m=\u001B[0m\u001B[1;36m300\u001B[0m\u001B[1;33m,\u001B[0m \u001B[0mc\u001B[0m\u001B[1;33m=\u001B[0m\u001B[1;34m'red'\u001B[0m\u001B[1;33m)\u001B[0m\u001B[1;33m\u001B[0m\u001B[1;33m\u001B[0m\u001B[0m\n\u001B[0;32m      5\u001B[0m \u001B[0mplt\u001B[0m\u001B[1;33m.\u001B[0m\u001B[0mshow\u001B[0m\u001B[1;33m(\u001B[0m\u001B[1;33m)\u001B[0m\u001B[1;33m\u001B[0m\u001B[1;33m\u001B[0m\u001B[0m\n",
      "\u001B[1;32mc:\\users\\hp\\pycharmprojects\\pythonproject1\\venv\\lib\\site-packages\\pandas\\core\\frame.py\u001B[0m in \u001B[0;36m__getitem__\u001B[1;34m(self, key)\u001B[0m\n\u001B[0;32m   2900\u001B[0m             \u001B[1;32mif\u001B[0m \u001B[0mself\u001B[0m\u001B[1;33m.\u001B[0m\u001B[0mcolumns\u001B[0m\u001B[1;33m.\u001B[0m\u001B[0mnlevels\u001B[0m \u001B[1;33m>\u001B[0m \u001B[1;36m1\u001B[0m\u001B[1;33m:\u001B[0m\u001B[1;33m\u001B[0m\u001B[1;33m\u001B[0m\u001B[0m\n\u001B[0;32m   2901\u001B[0m                 \u001B[1;32mreturn\u001B[0m \u001B[0mself\u001B[0m\u001B[1;33m.\u001B[0m\u001B[0m_getitem_multilevel\u001B[0m\u001B[1;33m(\u001B[0m\u001B[0mkey\u001B[0m\u001B[1;33m)\u001B[0m\u001B[1;33m\u001B[0m\u001B[1;33m\u001B[0m\u001B[0m\n\u001B[1;32m-> 2902\u001B[1;33m             \u001B[0mindexer\u001B[0m \u001B[1;33m=\u001B[0m \u001B[0mself\u001B[0m\u001B[1;33m.\u001B[0m\u001B[0mcolumns\u001B[0m\u001B[1;33m.\u001B[0m\u001B[0mget_loc\u001B[0m\u001B[1;33m(\u001B[0m\u001B[0mkey\u001B[0m\u001B[1;33m)\u001B[0m\u001B[1;33m\u001B[0m\u001B[1;33m\u001B[0m\u001B[0m\n\u001B[0m\u001B[0;32m   2903\u001B[0m             \u001B[1;32mif\u001B[0m \u001B[0mis_integer\u001B[0m\u001B[1;33m(\u001B[0m\u001B[0mindexer\u001B[0m\u001B[1;33m)\u001B[0m\u001B[1;33m:\u001B[0m\u001B[1;33m\u001B[0m\u001B[1;33m\u001B[0m\u001B[0m\n\u001B[0;32m   2904\u001B[0m                 \u001B[0mindexer\u001B[0m \u001B[1;33m=\u001B[0m \u001B[1;33m[\u001B[0m\u001B[0mindexer\u001B[0m\u001B[1;33m]\u001B[0m\u001B[1;33m\u001B[0m\u001B[1;33m\u001B[0m\u001B[0m\n",
      "\u001B[1;32mc:\\users\\hp\\pycharmprojects\\pythonproject1\\venv\\lib\\site-packages\\pandas\\core\\indexes\\base.py\u001B[0m in \u001B[0;36mget_loc\u001B[1;34m(self, key, method, tolerance)\u001B[0m\n\u001B[0;32m   2889\u001B[0m             \u001B[0mcasted_key\u001B[0m \u001B[1;33m=\u001B[0m \u001B[0mself\u001B[0m\u001B[1;33m.\u001B[0m\u001B[0m_maybe_cast_indexer\u001B[0m\u001B[1;33m(\u001B[0m\u001B[0mkey\u001B[0m\u001B[1;33m)\u001B[0m\u001B[1;33m\u001B[0m\u001B[1;33m\u001B[0m\u001B[0m\n\u001B[0;32m   2890\u001B[0m             \u001B[1;32mtry\u001B[0m\u001B[1;33m:\u001B[0m\u001B[1;33m\u001B[0m\u001B[1;33m\u001B[0m\u001B[0m\n\u001B[1;32m-> 2891\u001B[1;33m                 \u001B[1;32mreturn\u001B[0m \u001B[0mself\u001B[0m\u001B[1;33m.\u001B[0m\u001B[0m_engine\u001B[0m\u001B[1;33m.\u001B[0m\u001B[0mget_loc\u001B[0m\u001B[1;33m(\u001B[0m\u001B[0mcasted_key\u001B[0m\u001B[1;33m)\u001B[0m\u001B[1;33m\u001B[0m\u001B[1;33m\u001B[0m\u001B[0m\n\u001B[0m\u001B[0;32m   2892\u001B[0m             \u001B[1;32mexcept\u001B[0m \u001B[0mKeyError\u001B[0m \u001B[1;32mas\u001B[0m \u001B[0merr\u001B[0m\u001B[1;33m:\u001B[0m\u001B[1;33m\u001B[0m\u001B[1;33m\u001B[0m\u001B[0m\n\u001B[0;32m   2893\u001B[0m                 \u001B[1;32mraise\u001B[0m \u001B[0mKeyError\u001B[0m\u001B[1;33m(\u001B[0m\u001B[0mkey\u001B[0m\u001B[1;33m)\u001B[0m \u001B[1;32mfrom\u001B[0m \u001B[0merr\u001B[0m\u001B[1;33m\u001B[0m\u001B[1;33m\u001B[0m\u001B[0m\n",
      "\u001B[1;32mpandas\\_libs\\index.pyx\u001B[0m in \u001B[0;36mpandas._libs.index.IndexEngine.get_loc\u001B[1;34m()\u001B[0m\n",
      "\u001B[1;32mpandas\\_libs\\index.pyx\u001B[0m in \u001B[0;36mpandas._libs.index.IndexEngine.get_loc\u001B[1;34m()\u001B[0m\n",
      "\u001B[1;31mTypeError\u001B[0m: '(slice(None, None, None), 0)' is an invalid key"
     ]
    }
   ],
   "source": []
  },
  {
   "cell_type": "code",
   "execution_count": null,
   "metadata": {},
   "outputs": [],
   "source": []
  }
 ],
 "metadata": {
  "kernelspec": {
   "display_name": "Python 3",
   "language": "python",
   "name": "python3"
  },
  "language_info": {
   "codemirror_mode": {
    "name": "ipython",
    "version": 3
   },
   "file_extension": ".py",
   "mimetype": "text/x-python",
   "name": "python",
   "nbconvert_exporter": "python",
   "pygments_lexer": "ipython3",
   "version": "3.8.5"
  }
 },
 "nbformat": 4,
 "nbformat_minor": 1
}