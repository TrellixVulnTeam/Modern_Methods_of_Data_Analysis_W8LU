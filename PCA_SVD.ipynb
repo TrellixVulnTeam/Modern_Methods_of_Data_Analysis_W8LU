{
 "cells": [
  {
   "cell_type": "markdown",
   "metadata": {},
   "source": [
    "### Task 1\n",
    "In your data set, select a subset of 3-6 features related to the same aspect and explain your choice (may be the same subset that was used for k-means clustering)"
   ]
  },
  {
   "cell_type": "markdown",
   "metadata": {},
   "source": [
    "Let us load dataset.\n",
    "We will choose such features, that our clusters will interprete genres of songs. Let it be danceability, energy, loudness and tempo and "
   ]
  },
  {
   "cell_type": "code",
   "execution_count": 156,
   "metadata": {},
   "outputs": [
    {
     "data": {
      "text/html": [
       "<div>\n",
       "<style scoped>\n",
       "    .dataframe tbody tr th:only-of-type {\n",
       "        vertical-align: middle;\n",
       "    }\n",
       "\n",
       "    .dataframe tbody tr th {\n",
       "        vertical-align: top;\n",
       "    }\n",
       "\n",
       "    .dataframe thead th {\n",
       "        text-align: right;\n",
       "    }\n",
       "</style>\n",
       "<table border=\"1\" class=\"dataframe\">\n",
       "  <thead>\n",
       "    <tr style=\"text-align: right;\">\n",
       "      <th></th>\n",
       "      <th>track</th>\n",
       "      <th>artist</th>\n",
       "      <th>uri</th>\n",
       "      <th>danceability</th>\n",
       "      <th>energy</th>\n",
       "      <th>key</th>\n",
       "      <th>loudness</th>\n",
       "      <th>mode</th>\n",
       "      <th>speechiness</th>\n",
       "      <th>acousticness</th>\n",
       "      <th>instrumentalness</th>\n",
       "      <th>liveness</th>\n",
       "      <th>valence</th>\n",
       "      <th>tempo</th>\n",
       "      <th>duration_ms</th>\n",
       "      <th>time_signature</th>\n",
       "      <th>chorus_hit</th>\n",
       "      <th>sections</th>\n",
       "      <th>target</th>\n",
       "    </tr>\n",
       "  </thead>\n",
       "  <tbody>\n",
       "    <tr>\n",
       "      <th>0</th>\n",
       "      <td>Misty Roses</td>\n",
       "      <td>Astrud Gilberto</td>\n",
       "      <td>spotify:track:50RBM1j1Dw7WYmsGsWg9Tm</td>\n",
       "      <td>0.527</td>\n",
       "      <td>0.316</td>\n",
       "      <td>1</td>\n",
       "      <td>-15.769</td>\n",
       "      <td>1</td>\n",
       "      <td>0.0310</td>\n",
       "      <td>0.693000</td>\n",
       "      <td>0.00699</td>\n",
       "      <td>0.1680</td>\n",
       "      <td>0.543</td>\n",
       "      <td>116.211</td>\n",
       "      <td>158840</td>\n",
       "      <td>4</td>\n",
       "      <td>53.89523</td>\n",
       "      <td>6</td>\n",
       "      <td>0</td>\n",
       "    </tr>\n",
       "    <tr>\n",
       "      <th>1</th>\n",
       "      <td>Never Ever</td>\n",
       "      <td>All Saints</td>\n",
       "      <td>spotify:track:5FTz9qQ94PyUHETyAyfYZN</td>\n",
       "      <td>0.738</td>\n",
       "      <td>0.541</td>\n",
       "      <td>1</td>\n",
       "      <td>-5.485</td>\n",
       "      <td>1</td>\n",
       "      <td>0.0311</td>\n",
       "      <td>0.559000</td>\n",
       "      <td>0.00000</td>\n",
       "      <td>0.0492</td>\n",
       "      <td>0.309</td>\n",
       "      <td>134.187</td>\n",
       "      <td>387573</td>\n",
       "      <td>4</td>\n",
       "      <td>32.16853</td>\n",
       "      <td>16</td>\n",
       "      <td>1</td>\n",
       "    </tr>\n",
       "    <tr>\n",
       "      <th>2</th>\n",
       "      <td>Soul Sermon</td>\n",
       "      <td>Gregg Karukas</td>\n",
       "      <td>spotify:track:6m24oe3lk1UMxq9zq4iPFi</td>\n",
       "      <td>0.736</td>\n",
       "      <td>0.419</td>\n",
       "      <td>0</td>\n",
       "      <td>-10.662</td>\n",
       "      <td>1</td>\n",
       "      <td>0.0300</td>\n",
       "      <td>0.693000</td>\n",
       "      <td>0.49500</td>\n",
       "      <td>0.0809</td>\n",
       "      <td>0.265</td>\n",
       "      <td>93.982</td>\n",
       "      <td>237267</td>\n",
       "      <td>4</td>\n",
       "      <td>42.05369</td>\n",
       "      <td>9</td>\n",
       "      <td>0</td>\n",
       "    </tr>\n",
       "    <tr>\n",
       "      <th>3</th>\n",
       "      <td>Clarinet Marmalade - Live</td>\n",
       "      <td>Alton Purnell</td>\n",
       "      <td>spotify:track:5FOXuiLI6knVtgMUjWKj6x</td>\n",
       "      <td>0.565</td>\n",
       "      <td>0.594</td>\n",
       "      <td>5</td>\n",
       "      <td>-13.086</td>\n",
       "      <td>1</td>\n",
       "      <td>0.0646</td>\n",
       "      <td>0.655000</td>\n",
       "      <td>0.92600</td>\n",
       "      <td>0.6750</td>\n",
       "      <td>0.763</td>\n",
       "      <td>114.219</td>\n",
       "      <td>375933</td>\n",
       "      <td>4</td>\n",
       "      <td>80.99693</td>\n",
       "      <td>10</td>\n",
       "      <td>0</td>\n",
       "    </tr>\n",
       "    <tr>\n",
       "      <th>4</th>\n",
       "      <td>До смерті і довше - Drum &amp; Base and Rock Remix</td>\n",
       "      <td>Skryabin</td>\n",
       "      <td>spotify:track:6CxyIPTqSPvAPXfrIZczs4</td>\n",
       "      <td>0.513</td>\n",
       "      <td>0.760</td>\n",
       "      <td>4</td>\n",
       "      <td>-10.077</td>\n",
       "      <td>1</td>\n",
       "      <td>0.0355</td>\n",
       "      <td>0.000017</td>\n",
       "      <td>0.00339</td>\n",
       "      <td>0.1530</td>\n",
       "      <td>0.961</td>\n",
       "      <td>153.166</td>\n",
       "      <td>430653</td>\n",
       "      <td>4</td>\n",
       "      <td>25.57331</td>\n",
       "      <td>20</td>\n",
       "      <td>0</td>\n",
       "    </tr>\n",
       "  </tbody>\n",
       "</table>\n",
       "</div>"
      ],
      "text/plain": [
       "                                            track           artist  \\\n",
       "0                                     Misty Roses  Astrud Gilberto   \n",
       "1                                      Never Ever       All Saints   \n",
       "2                                     Soul Sermon    Gregg Karukas   \n",
       "3                       Clarinet Marmalade - Live    Alton Purnell   \n",
       "4  До смерті і довше - Drum & Base and Rock Remix         Skryabin   \n",
       "\n",
       "                                    uri  danceability  energy  key  loudness  \\\n",
       "0  spotify:track:50RBM1j1Dw7WYmsGsWg9Tm         0.527   0.316    1   -15.769   \n",
       "1  spotify:track:5FTz9qQ94PyUHETyAyfYZN         0.738   0.541    1    -5.485   \n",
       "2  spotify:track:6m24oe3lk1UMxq9zq4iPFi         0.736   0.419    0   -10.662   \n",
       "3  spotify:track:5FOXuiLI6knVtgMUjWKj6x         0.565   0.594    5   -13.086   \n",
       "4  spotify:track:6CxyIPTqSPvAPXfrIZczs4         0.513   0.760    4   -10.077   \n",
       "\n",
       "   mode  speechiness  acousticness  instrumentalness  liveness  valence  \\\n",
       "0     1       0.0310      0.693000           0.00699    0.1680    0.543   \n",
       "1     1       0.0311      0.559000           0.00000    0.0492    0.309   \n",
       "2     1       0.0300      0.693000           0.49500    0.0809    0.265   \n",
       "3     1       0.0646      0.655000           0.92600    0.6750    0.763   \n",
       "4     1       0.0355      0.000017           0.00339    0.1530    0.961   \n",
       "\n",
       "     tempo  duration_ms  time_signature  chorus_hit  sections  target  \n",
       "0  116.211       158840               4    53.89523         6       0  \n",
       "1  134.187       387573               4    32.16853        16       1  \n",
       "2   93.982       237267               4    42.05369         9       0  \n",
       "3  114.219       375933               4    80.99693        10       0  \n",
       "4  153.166       430653               4    25.57331        20       0  "
      ]
     },
     "execution_count": 156,
     "metadata": {},
     "output_type": "execute_result"
    }
   ],
   "source": [
    "import numpy as np\n",
    "import pandas as pd\n",
    "\n",
    "spotify_data = pd.read_csv('dataset-of-90s.csv')\n",
    "incols = [\"danceability\",\"energy\",\"loudness\",\"tempo\"] \n",
    "spotify_data.head()"
   ]
  },
  {
   "cell_type": "markdown",
   "metadata": {},
   "source": [
    "### Task 2\n",
    "1. Standardize the selected subset;"
   ]
  },
  {
   "cell_type": "code",
   "execution_count": 157,
   "metadata": {},
   "outputs": [],
   "source": [
    "# standartize data\n",
    "df_not_std = spotify_data[incols].copy().head(2000)\n",
    "df_z_std = spotify_data[incols].copy().head(2000)\n",
    "df_rng_std = spotify_data[incols].copy().head(2000)\n",
    "df_rnk_std = spotify_data[incols].copy().head(2000)\n",
    "for col in incols:\n",
    "    df_z_std[col] = (spotify_data[col] - spotify_data[col].mean())/spotify_data[col].std()\n",
    "    df_rng_std[col] = (spotify_data[col] - spotify_data[col].mean())/np.ptp(spotify_data[col])\n",
    "    df_rnk_std[col] = (spotify_data[col] - spotify_data[col].min())/np.ptp(spotify_data[col])"
   ]
  },
  {
   "cell_type": "code",
   "execution_count": 158,
   "metadata": {},
   "outputs": [
    {
     "data": {
      "text/html": [
       "<div>\n",
       "<style scoped>\n",
       "    .dataframe tbody tr th:only-of-type {\n",
       "        vertical-align: middle;\n",
       "    }\n",
       "\n",
       "    .dataframe tbody tr th {\n",
       "        vertical-align: top;\n",
       "    }\n",
       "\n",
       "    .dataframe thead th {\n",
       "        text-align: right;\n",
       "    }\n",
       "</style>\n",
       "<table border=\"1\" class=\"dataframe\">\n",
       "  <thead>\n",
       "    <tr style=\"text-align: right;\">\n",
       "      <th></th>\n",
       "      <th>danceability</th>\n",
       "      <th>energy</th>\n",
       "      <th>loudness</th>\n",
       "      <th>tempo</th>\n",
       "    </tr>\n",
       "  </thead>\n",
       "  <tbody>\n",
       "    <tr>\n",
       "      <th>0</th>\n",
       "      <td>0.527</td>\n",
       "      <td>0.316</td>\n",
       "      <td>-15.769</td>\n",
       "      <td>116.211</td>\n",
       "    </tr>\n",
       "    <tr>\n",
       "      <th>1</th>\n",
       "      <td>0.738</td>\n",
       "      <td>0.541</td>\n",
       "      <td>-5.485</td>\n",
       "      <td>134.187</td>\n",
       "    </tr>\n",
       "    <tr>\n",
       "      <th>2</th>\n",
       "      <td>0.736</td>\n",
       "      <td>0.419</td>\n",
       "      <td>-10.662</td>\n",
       "      <td>93.982</td>\n",
       "    </tr>\n",
       "    <tr>\n",
       "      <th>3</th>\n",
       "      <td>0.565</td>\n",
       "      <td>0.594</td>\n",
       "      <td>-13.086</td>\n",
       "      <td>114.219</td>\n",
       "    </tr>\n",
       "    <tr>\n",
       "      <th>4</th>\n",
       "      <td>0.513</td>\n",
       "      <td>0.760</td>\n",
       "      <td>-10.077</td>\n",
       "      <td>153.166</td>\n",
       "    </tr>\n",
       "  </tbody>\n",
       "</table>\n",
       "</div>"
      ],
      "text/plain": [
       "   danceability  energy  loudness    tempo\n",
       "0         0.527   0.316   -15.769  116.211\n",
       "1         0.738   0.541    -5.485  134.187\n",
       "2         0.736   0.419   -10.662   93.982\n",
       "3         0.565   0.594   -13.086  114.219\n",
       "4         0.513   0.760   -10.077  153.166"
      ]
     },
     "execution_count": 158,
     "metadata": {},
     "output_type": "execute_result"
    }
   ],
   "source": [
    "df_not_std.head()"
   ]
  },
  {
   "cell_type": "code",
   "execution_count": 159,
   "metadata": {},
   "outputs": [
    {
     "data": {
      "text/html": [
       "<div>\n",
       "<style scoped>\n",
       "    .dataframe tbody tr th:only-of-type {\n",
       "        vertical-align: middle;\n",
       "    }\n",
       "\n",
       "    .dataframe tbody tr th {\n",
       "        vertical-align: top;\n",
       "    }\n",
       "\n",
       "    .dataframe thead th {\n",
       "        text-align: right;\n",
       "    }\n",
       "</style>\n",
       "<table border=\"1\" class=\"dataframe\">\n",
       "  <thead>\n",
       "    <tr style=\"text-align: right;\">\n",
       "      <th></th>\n",
       "      <th>danceability</th>\n",
       "      <th>energy</th>\n",
       "      <th>loudness</th>\n",
       "      <th>tempo</th>\n",
       "    </tr>\n",
       "  </thead>\n",
       "  <tbody>\n",
       "    <tr>\n",
       "      <th>0</th>\n",
       "      <td>-0.221170</td>\n",
       "      <td>-1.135046</td>\n",
       "      <td>-1.081440</td>\n",
       "      <td>-0.089165</td>\n",
       "    </tr>\n",
       "    <tr>\n",
       "      <th>1</th>\n",
       "      <td>0.948628</td>\n",
       "      <td>-0.242859</td>\n",
       "      <td>0.928274</td>\n",
       "      <td>0.520408</td>\n",
       "    </tr>\n",
       "    <tr>\n",
       "      <th>2</th>\n",
       "      <td>0.937540</td>\n",
       "      <td>-0.726623</td>\n",
       "      <td>-0.083423</td>\n",
       "      <td>-0.842959</td>\n",
       "    </tr>\n",
       "    <tr>\n",
       "      <th>3</th>\n",
       "      <td>-0.010495</td>\n",
       "      <td>-0.032699</td>\n",
       "      <td>-0.557125</td>\n",
       "      <td>-0.156714</td>\n",
       "    </tr>\n",
       "    <tr>\n",
       "      <th>4</th>\n",
       "      <td>-0.298787</td>\n",
       "      <td>0.625537</td>\n",
       "      <td>0.030898</td>\n",
       "      <td>1.163994</td>\n",
       "    </tr>\n",
       "  </tbody>\n",
       "</table>\n",
       "</div>"
      ],
      "text/plain": [
       "   danceability    energy  loudness     tempo\n",
       "0     -0.221170 -1.135046 -1.081440 -0.089165\n",
       "1      0.948628 -0.242859  0.928274  0.520408\n",
       "2      0.937540 -0.726623 -0.083423 -0.842959\n",
       "3     -0.010495 -0.032699 -0.557125 -0.156714\n",
       "4     -0.298787  0.625537  0.030898  1.163994"
      ]
     },
     "execution_count": 159,
     "metadata": {},
     "output_type": "execute_result"
    }
   ],
   "source": [
    "df_z_std.head()"
   ]
  },
  {
   "cell_type": "markdown",
   "metadata": {},
   "source": [
    "2. compute its data scatter and SVD; "
   ]
  },
  {
   "cell_type": "code",
   "execution_count": 160,
   "metadata": {},
   "outputs": [],
   "source": [
    "def svd(x):\n",
    "    z, mu, c = np.linalg.svd(x)  \n",
    "    z = -z\n",
    "    c = -c \n",
    "    mu_arg_max = np.argmax(mu)\n",
    "    \n",
    "    n_contributions = np.power(mu, 2)\n",
    "    ds = np.sum(np.power(x, 2))  # Data Scatter\n",
    "\n",
    "    # Determine contributions of all the principal components to the data scatter \n",
    "    p_contributions = np.divide(n_contributions, ds)\n",
    "    return z, mu, c, ds, n_contributions, p_contributions, mu_arg_max"
   ]
  },
  {
   "cell_type": "code",
   "execution_count": 161,
   "metadata": {},
   "outputs": [],
   "source": [
    "# Singular decomposition on original data \n",
    "z_x, mu_x, c_x, ds_x, n_contributions_x, p_contributions_x, mu_argmax_x = \\\n",
    "svd(x=df_not_std)"
   ]
  },
  {
   "cell_type": "code",
   "execution_count": 162,
   "metadata": {},
   "outputs": [],
   "source": [
    "# Singular decomposition on Z-Scored standardized data\n",
    "z_x_zscore, mu_x_zscore, c_x_zscore, ds_x_zscore,\\\n",
    "n_contributions_x_zscore, p_contributions_x_zscore, mu_argmax_x_zscore  = \\\n",
    "svd(x=df_z_std)"
   ]
  },
  {
   "cell_type": "code",
   "execution_count": 163,
   "metadata": {},
   "outputs": [],
   "source": [
    "# Singular decomposition on Range standardized data\n",
    "z_x_range, mu_x_range, c_x_range, ds_x_range,\\\n",
    "n_contributions_x_range, p_contributions_x_range,mu_argmax_x_range = \\\n",
    "svd(x=df_rng_std)"
   ]
  },
  {
   "cell_type": "code",
   "execution_count": 164,
   "metadata": {},
   "outputs": [],
   "source": [
    "# Singular decomposition on Rank standardized data\n",
    "z_x_rank, mu_x_rank, c_x_rank, ds_x_rank,\\\n",
    "n_contributions_x_rank, p_contributions_x_rank, mu_argmax_x_rank = \\\n",
    "svd(x=df_rnk_std)"
   ]
  },
  {
   "cell_type": "markdown",
   "metadata": {
    "pycharm": {
     "name": "#%% md\n"
    }
   },
   "source": [
    "3. determine contributions of all the principal components to the data scatter, naturally and per cent."
   ]
  },
  {
   "cell_type": "code",
   "execution_count": null,
   "outputs": [],
   "source": [
    "print('Natural contributions of\\n\\\n",
    "Original data: {}\\n\\\n",
    "Ranked std data: {}\\n\\\n",
    "Ranged std data: {}\\n\\\n",
    "Z-Scored std data: {}'.format(n_contributions_x,\n",
    "                                 n_contributions_x_rank,\n",
    "                                 n_contributions_x_range,\n",
    "                                 n_contributions_x_zscore))"
   ],
   "metadata": {
    "collapsed": false,
    "pycharm": {
     "name": "#%%\n"
    }
   }
  },
  {
   "cell_type": "code",
   "execution_count": null,
   "outputs": [],
   "source": [
    "print('Percent contributions of\\n\\\n",
    "Original data:\\n{}\\n\\\n",
    "Ranked std data:\\n{}\\n\\\n",
    "Ranged std data:\\n{}\\n\\\n",
    "Z-Scored std data:\\n{}'.format(100*p_contributions_x,\n",
    "                                 100*p_contributions_x_rank,\n",
    "                                 100*p_contributions_x_range,\n",
    "                                 100*p_contributions_x_zscore))"
   ],
   "metadata": {
    "collapsed": false,
    "pycharm": {
     "name": "#%%\n"
    }
   }
  },
  {
   "cell_type": "code",
   "execution_count": null,
   "outputs": [],
   "source": [
    "print('loadings of 1st component\\n\\\n",
    "Original data:\\n{}\\n\\\n",
    "Ranked std data:\\n{}\\n\\\n",
    "Ranged std data:\\n{}\\n\\\n",
    "Z-Scored std data:\\n{}'.format(c_x[mu_argmax_x, :],\n",
    "                                 c_x_rank[mu_argmax_x_rank, :],\n",
    "                                 c_x_range[mu_argmax_x_range, :],\n",
    "                                 c_x_zscore[mu_argmax_x_zscore, :]))"
   ],
   "metadata": {
    "collapsed": false,
    "pycharm": {
     "name": "#%%\n"
    }
   }
  },
  {
   "cell_type": "markdown",
   "source": [
    "### Task 3\n",
    "Compute and interpret a hidden ranking factor behind the selected features. The factor should be expressed in a 0-100 rank scale (as well as the features – ranking normalization)."
   ],
   "metadata": {
    "collapsed": false
   }
  },
  {
   "cell_type": "code",
   "execution_count": null,
   "outputs": [],
   "source": [
    "def part_3(x, z, c, mu, argmax):    \n",
    "    z1 = z[:, argmax]  # hiden score\n",
    "    c1 = c[argmax, :]  # loading\n",
    "    mu1 = mu[argmax] \n",
    "    print(\"c1: \", c1)\n",
    "    alpha = 1/np.sum(c1)\n",
    "    loading = c1*alpha  \n",
    "    print(\"Loading: \", loading)\n",
    "    ranking_factors = 100*x@(loading)  # ranking factors\n",
    "    arg_top5 = np.argsort(ranking_factors)[::-1][:5]\n",
    "    top_5 = np.sort(ranking_factors,)[::-1][:5]\n",
    "    \n",
    "    print(\"Top5 songs: \", top_5)\n",
    "    return loading, ranking_factors, arg_top5"
   ],
   "metadata": {
    "collapsed": false,
    "pycharm": {
     "name": "#%%\n"
    }
   }
  },
  {
   "cell_type": "code",
   "execution_count": null,
   "outputs": [],
   "source": [
    "_, _, arg_top5 =\\\n",
    "part_3(x=df_rnk_std, z=z_x_rank, c=c_x_rank, mu=mu_x_rank, argmax=mu_argmax_x_rank)"
   ],
   "metadata": {
    "collapsed": false,
    "pycharm": {
     "name": "#%%\n"
    }
   }
  },
  {
   "cell_type": "code",
   "execution_count": null,
   "outputs": [],
   "source": [
    "for i in arg_top5:\n",
    "    print(spotify_data.loc[i,['track','artist']])"
   ],
   "metadata": {
    "collapsed": false,
    "pycharm": {
     "name": "#%%\n"
    }
   }
  },
  {
   "cell_type": "code",
   "execution_count": null,
   "outputs": [],
   "source": [
    "# Rank standardized :\n",
    "_, _, arg_top5 =\\\n",
    "part_3(x=df_z_std, z=z_x_zscore, c=c_x_zscore, mu=mu_x_zscore, argmax=mu_argmax_x_rank)"
   ],
   "metadata": {
    "collapsed": false,
    "pycharm": {
     "name": "#%%\n"
    }
   }
  },
  {
   "cell_type": "code",
   "execution_count": null,
   "outputs": [],
   "source": [
    "for i in arg_top5:\n",
    "    print(spotify_data.loc[i,['track','artist']])"
   ],
   "metadata": {
    "collapsed": false,
    "pycharm": {
     "name": "#%%\n"
    }
   }
  },
  {
   "cell_type": "markdown",
   "source": [
    "### Task 4\n",
    "Visualize the data using two first principal components at the standardization with two versions of normalization: \n",
    "- (a) range normalization \n",
    "- (b) z-scoring.\n",
    "\n",
    "At these visualizations, use a distinct shape/color for points representing a pre-specified by your group of objects. "
   ],
   "metadata": {
    "collapsed": false
   }
  },
  {
   "cell_type": "code",
   "execution_count": null,
   "outputs": [],
   "source": [
    "\n",
    "print(df_not_std.to_numpy()[:, -1])\n",
    "subset = np.where(df_not_std.to_numpy()[:, -1] >= 200.)[0] \n",
    "print(subset)"
   ],
   "metadata": {
    "collapsed": false,
    "pycharm": {
     "name": "#%%\n"
    }
   }
  },
  {
   "cell_type": "code",
   "execution_count": null,
   "outputs": [],
   "source": [
    "import matplotlib.pyplot as plt\n",
    "\n",
    "z_z0 = z_x_zscore[:, 0]*np.sqrt(mu_x_zscore[0])\n",
    "z_z1 = z_x_zscore[:, 1]*np.sqrt(mu_x_zscore[1])\n",
    "\n",
    "z_r0 = z_x_range[:, 0]*np.sqrt(mu_x_range[0])\n",
    "z_r1 = z_x_range[:, 1]*np.sqrt(mu_x_range[1])\n",
    "fig = plt.figure(figsize=(8.5, 9.5))\n",
    "\n",
    "ax = fig.add_subplot(121)\n",
    "ax.scatter(z_z0, z_z1)\n",
    "ax.scatter(z_z0[subset], z_z1[subset], c='r',)\n",
    "plt.title(\"PCA of Z-scoring standardized data\")\n",
    "\n",
    "ax = fig.add_subplot(122)\n",
    "ax.scatter(z_r0, z_r1)\n",
    "ax.scatter(z_r0[subset], z_r1[subset], c='r',)\n",
    "\n",
    "plt.title(\"PCA of Range standardatized data\")\n",
    "plt.show()"
   ],
   "metadata": {
    "collapsed": false,
    "pycharm": {
     "name": "#%%\n"
    }
   }
  },
  {
   "cell_type": "code",
   "execution_count": null,
   "outputs": [],
   "source": [
    "# Loadings:\n",
    "c_x_zscore[:3, :]"
   ],
   "metadata": {
    "collapsed": false,
    "pycharm": {
     "name": "#%%\n"
    }
   }
  },
  {
   "cell_type": "code",
   "execution_count": null,
   "outputs": [],
   "source": [
    "def conventional_pca(X, standardized=False):    \n",
    "    # Let us name x as original data set, \n",
    "    # restricted at selected subset of features, i.e. x_selected.\n",
    "    if standardized is False:\n",
    "        mean_x = np.mean(X, axis=0)\n",
    "        Y = np.subtract(X, mean_x)  # centered version\n",
    "        B = (Y.T@Y)/Y.shape[0]  # covariance matrix of Y\n",
    "        L, C = np.linalg.eig(B)  # Eigenvalues \n",
    "        sorted_idx = np.argsort(L)[::-1]  # descending order\n",
    "        la1 = L[sorted_idx[0]]\n",
    "        c1 = C[:, sorted_idx[0]]  # unlike np.linalg.svd now we should consider the column\n",
    "        pc1 = np.divide(Y@c1, np.sqrt(Y.shape[0]*la1))  # 1st principle component    \n",
    "        B_dot = B - la1*np.multiply(c1, c1.T)  # Residual of Cov.\n",
    "        L_, C_ = np.linalg.eig(B_dot)\n",
    "        argmax_ = np.argmax(L_)\n",
    "        la2 = L_[argmax_]\n",
    "        c2 = C_[:, argmax_]\n",
    "        pc2 = np.divide(Y@c2, np.sqrt(Y.shape[0]*la2))  # 2nd principle component \n",
    "    else:\n",
    "        Y = X\n",
    "        B = (Y.T@Y)/Y.shape[0]  # covariance matrix of Y\n",
    "        L, C = np.linalg.eig(B)\n",
    "        sorted_idx = np.argsort(L)[::-1]  # descending order\n",
    "        la1 = L[sorted_idx[0]]\n",
    "        c1 = C[:, sorted_idx[0]]  # unlike np.linalg.svd now we should consider the column\n",
    "        pc1 = np.divide(Y@c1, np.sqrt(Y.shape[0]*la1))  # 1st principle component    \n",
    "        la2 = L[sorted_idx[1]]\n",
    "        c2 = -C[:, sorted_idx[1]]  # unlike np.linalg.svd now we should consider the column\n",
    "        pc2 = np.divide(Y@c2, np.sqrt(Y.shape[0]*la2))  # 2nd principle component \n",
    "    \n",
    "    return pc1, pc2"
   ],
   "metadata": {
    "collapsed": false,
    "pycharm": {
     "name": "#%%\n"
    }
   }
  },
  {
   "cell_type": "code",
   "execution_count": null,
   "outputs": [],
   "source": [
    "pc1_x, pc2_x = conventional_pca(X=df_not_std, standardized=False)"
   ],
   "metadata": {
    "collapsed": false,
    "pycharm": {
     "name": "#%%\n"
    }
   }
  },
  {
   "cell_type": "code",
   "execution_count": null,
   "outputs": [],
   "source": [
    "pc1_x_z, pc2_x_z = conventional_pca(X=df_z_std, standardized=True)"
   ],
   "metadata": {
    "collapsed": false,
    "pycharm": {
     "name": "#%%\n"
    }
   }
  },
  {
   "cell_type": "code",
   "execution_count": null,
   "outputs": [],
   "source": [
    "from sklearn.decomposition import PCA\n",
    "pca = PCA(n_components=2)\n",
    "pcas = pca.fit_transform(df_z_std)\n",
    "pc1, pc2 = pcas[:, 0], pcas[:, 1]"
   ],
   "metadata": {
    "collapsed": false,
    "pycharm": {
     "name": "#%%\n"
    }
   }
  },
  {
   "cell_type": "code",
   "execution_count": null,
   "outputs": [],
   "source": [
    "\n",
    "fig = plt.figure(figsize=(19.5, 10.5))\n",
    "\n",
    "ax = fig.add_subplot(151)\n",
    "ax.scatter(z_z0, z_z1)\n",
    "ax.scatter(z_z0[subset], z_z1[subset], c='r',)\n",
    "plt.title(\"PCA of Z-scoring data(SVD)\")\n",
    "\n",
    "\n",
    "ax = fig.add_subplot(152)\n",
    "ax.scatter(pc1_x_z, pc2_x_z)\n",
    "ax.scatter(pc1_x_z[subset], pc2_x_z[subset], c='r',)\n",
    "plt.title(\"Conventional PCA of Z-scored\")\n",
    "\n",
    "ax = fig.add_subplot(153)\n",
    "ax.scatter(pc1, pc2)\n",
    "ax.scatter(pc1[subset], pc2[subset], c='r',)\n",
    "plt.title(\"Output of Sklearn\")\n",
    "\n",
    "ax = fig.add_subplot(154)\n",
    "plt.scatter(z_r0, z_r1)\n",
    "ax.scatter(z_r0[subset], z_r1[subset], c='r',)\n",
    "plt.title(\"PCA of Range data(SVD)\")\n",
    "\n",
    "ax = fig.add_subplot(155)\n",
    "ax.scatter(pc1_x, pc2_x)\n",
    "ax.scatter(pc1_x[subset], pc2_x[subset], c='r',)\n",
    "plt.title(\"Conventional PCA of not standardized data\")\n",
    "\n",
    "plt.show()"
   ],
   "metadata": {
    "collapsed": false,
    "pycharm": {
     "name": "#%%\n"
    }
   }
  },
  {
   "cell_type": "code",
   "execution_count": 165,
   "metadata": {},
   "outputs": [
    {
     "name": "stdout",
     "output_type": "stream",
     "text": [
      "Natural contributions of\n",
      "Original data: [3.03123998e+07 6.54850753e+04 1.76523938e+02 5.98184986e+01]\n",
      "Ranked std data: [3208.84594551   88.68296979   64.49984953   21.60292385]\n",
      "Ranged std data: [144.37312846  80.9609673   43.50078381   7.4400816 ]\n",
      "Z-Scored std data: [3569.97172494 2377.33045171 1424.8690907   436.32042353]\n"
     ]
    }
   ],
   "source": [
    "\n",
    "fig = plt.figure(figsize=(19.5, 10.5))\n",
    "\n",
    "ax = fig.add_subplot(151)\n",
    "ax.scatter(z_z0, z_z1)\n",
    "ax.scatter(z_z0[subset], z_z1[subset], c='r',)\n",
    "plt.title(\"PCA of Z-scoring data(SVD)\")\n",
    "\n",
    "\n",
    "ax = fig.add_subplot(152)\n",
    "ax.scatter(pc1_x_z, pc2_x_z)\n",
    "ax.scatter(pc1_x_z[subset], pc2_x_z[subset], c='r',)\n",
    "plt.title(\"Conventional PCA of Z-scored\")\n",
    "\n",
    "ax = fig.add_subplot(153)\n",
    "ax.scatter(pc1, pc2)\n",
    "ax.scatter(pc1[subset], pc2[subset], c='r',)\n",
    "plt.title(\"Output of Sklearn\")\n",
    "\n",
    "ax = fig.add_subplot(154)\n",
    "plt.scatter(z_r0, z_r1)\n",
    "ax.scatter(z_r0[subset], z_r1[subset], c='r',)\n",
    "plt.title(\"PCA of Range data(SVD)\")\n",
    "\n",
    "ax = fig.add_subplot(155)\n",
    "ax.scatter(pc1_x, pc2_x)\n",
    "ax.scatter(pc1_x[subset], pc2_x[subset], c='r',)\n",
    "plt.title(\"Conventional PCA of not standardized data\")\n",
    "\n",
    "plt.show()"
   ]
  },
  {
   "cell_type": "code",
   "execution_count": 166,
   "metadata": {},
   "outputs": [
    {
     "name": "stdout",
     "output_type": "stream",
     "text": [
      "Percent contributions of\n",
      "Original data:\n",
      "danceability    4.301363e+06\n",
      "energy          7.566124e+03\n",
      "loudness        7.137829e-02\n",
      "tempo           1.985397e-04\n",
      "dtype: float64\n",
      "Ranked std data:\n",
      "danceability    468.814758\n",
      "energy           10.208393\n",
      "loudness          4.766789\n",
      "tempo             4.525713\n",
      "dtype: float64\n",
      "Ranged std data:\n",
      "danceability    187.308021\n",
      "energy           63.777522\n",
      "loudness        212.497059\n",
      "tempo            14.367805\n",
      "dtype: float64\n",
      "Z-Scored std data:\n",
      "danceability    177.493300\n",
      "energy          119.669709\n",
      "loudness         78.828855\n",
      "tempo            21.782913\n",
      "dtype: float64\n"
     ]
    }
   ],
   "source": [
    "print('Percent contributions of\\n\\\n",
    "Original data:\\n{}\\n\\\n",
    "Ranked std data:\\n{}\\n\\\n",
    "Ranged std data:\\n{}\\n\\\n",
    "Z-Scored std data:\\n{}'.format(100*p_contributions_x,\n",
    "                                 100*p_contributions_x_rank,\n",
    "                                 100*p_contributions_x_range,\n",
    "                                 100*p_contributions_x_zscore))"
   ]
  },
  {
   "cell_type": "code",
   "execution_count": 167,
   "metadata": {},
   "outputs": [
    {
     "name": "stdout",
     "output_type": "stream",
     "text": [
      "loadings of 1st component\n",
      "Original data:\n",
      "[ 0.00439569  0.0048805  -0.07753786  0.99696777]\n",
      "Ranked std data:\n",
      "[0.44098583 0.50410031 0.64609722 0.36602289]\n",
      "Ranged std data:\n",
      "[-0.17485724 -0.92403155 -0.30792714 -0.14412329]\n",
      "Z-Scored std data:\n",
      "[-0.22858    -0.68286121 -0.65393925 -0.23198105]\n"
     ]
    }
   ],
   "source": [
    "print('loadings of 1st component\\n\\\n",
    "Original data:\\n{}\\n\\\n",
    "Ranked std data:\\n{}\\n\\\n",
    "Ranged std data:\\n{}\\n\\\n",
    "Z-Scored std data:\\n{}'.format(c_x[mu_argmax_x, :],\n",
    "                                 c_x_rank[mu_argmax_x_rank, :],\n",
    "                                 c_x_range[mu_argmax_x_range, :],\n",
    "                                 c_x_zscore[mu_argmax_x_zscore, :]))"
   ]
  },
  {
   "cell_type": "markdown",
   "metadata": {},
   "source": [
    "### Task 3\n",
    "Compute and interpret a hidden ranking factor behind the selected features. The factor should be expressed in a 0-100 rank scale (as well as the features – ranking normalization)."
   ]
  },
  {
   "cell_type": "code",
   "execution_count": 168,
   "metadata": {},
   "outputs": [],
   "source": [
    "def part_3(x, z, c, mu, argmax):    \n",
    "    z1 = z[:, argmax]  # hiden score\n",
    "    c1 = c[argmax, :]  # loading\n",
    "    mu1 = mu[argmax] \n",
    "    print(\"c1: \", c1)\n",
    "    alpha = 1/np.sum(c1)\n",
    "    loading = c1*alpha  \n",
    "    print(\"Loading: \", loading)\n",
    "    ranking_factors = 100*x@(loading)  # ranking factors\n",
    "    arg_top5 = np.argsort(ranking_factors)[::-1][:5]\n",
    "    top_5 = np.sort(ranking_factors,)[::-1][:5]\n",
    "    \n",
    "    print(\"Top5 songs: \", top_5)\n",
    "    return loading, ranking_factors, arg_top5"
   ]
  },
  {
   "cell_type": "code",
   "execution_count": 169,
   "metadata": {},
   "outputs": [
    {
     "name": "stdout",
     "output_type": "stream",
     "text": [
      "c1:  [0.44098583 0.50410031 0.64609722 0.36602289]\n",
      "Loading:  [0.22531393 0.25756116 0.33011198 0.18701294]\n",
      "Top5 songs:  [88.00360176 83.96462811 83.51184094 83.22825582 83.01521594]\n"
     ]
    }
   ],
   "source": [
    "_, _, arg_top5 =\\\n",
    "part_3(x=df_rnk_std, z=z_x_rank, c=c_x_rank, mu=mu_x_rank, argmax=mu_argmax_x_rank)"
   ]
  },
  {
   "cell_type": "code",
   "execution_count": 170,
   "metadata": {},
   "outputs": [
    {
     "name": "stdout",
     "output_type": "stream",
     "text": [
      "track     Ruffneck\n",
      "artist     MC Lyte\n",
      "Name: 1230, dtype: object\n",
      "track                 Jam\n",
      "artist    Michael Jackson\n",
      "Name: 1020, dtype: object\n",
      "track     Games People Play\n",
      "artist         Inner Circle\n",
      "Name: 1509, dtype: object\n",
      "track     I Need To Know\n",
      "artist      Marc Anthony\n",
      "Name: 211, dtype: object\n",
      "track        Jump On It\n",
      "artist    Sir Mix-A-Lot\n",
      "Name: 461, dtype: object\n"
     ]
    }
   ],
   "source": [
    "for i in arg_top5:\n",
    "    print(spotify_data.loc[i,['track','artist']])"
   ]
  },
  {
   "cell_type": "code",
   "execution_count": 171,
   "metadata": {},
   "outputs": [
    {
     "name": "stdout",
     "output_type": "stream",
     "text": [
      "c1:  [-0.22858    -0.68286121 -0.65393925 -0.23198105]\n",
      "Loading:  [0.1271753  0.37992424 0.3638329  0.12906755]\n",
      "Top5 songs:  [141.24336823 122.4859406  118.27113946 117.72712828 117.50034978]\n"
     ]
    }
   ],
   "source": [
    "# Rank standardized :\n",
    "_, _, arg_top5 =\\\n",
    "part_3(x=df_z_std, z=z_x_zscore, c=c_x_zscore, mu=mu_x_zscore, argmax=mu_argmax_x_rank)"
   ]
  },
  {
   "cell_type": "code",
   "execution_count": 172,
   "metadata": {},
   "outputs": [
    {
     "name": "stdout",
     "output_type": "stream",
     "text": [
      "track     Ruffneck\n",
      "artist     MC Lyte\n",
      "Name: 1230, dtype: object\n",
      "track     I Need To Know\n",
      "artist      Marc Anthony\n",
      "Name: 211, dtype: object\n",
      "track      Call Me\n",
      "artist    Le Click\n",
      "Name: 1166, dtype: object\n",
      "track     Remember The Time\n",
      "artist      Michael Jackson\n",
      "Name: 1659, dtype: object\n",
      "track     Ride The Wind\n",
      "artist           Poison\n",
      "Name: 1964, dtype: object\n"
     ]
    }
   ],
   "source": [
    "for i in arg_top5:\n",
    "    print(spotify_data.loc[i,['track','artist']])"
   ]
  },
  {
   "cell_type": "markdown",
   "metadata": {},
   "source": [
    "### Task 4\n",
    "Visualize the data using two first principal components at the standardization with two versions of normalization: \n",
    "- (a) range normalization \n",
    "- (b) z-scoring.\n",
    "\n",
    "At these visualizations, use a distinct shape/color for points representing a pre-specified by your group of objects. "
   ]
  },
  {
   "cell_type": "code",
   "execution_count": 175,
   "metadata": {},
   "outputs": [
    {
     "name": "stdout",
     "output_type": "stream",
     "text": [
      "[116.211 134.187  93.982 ... 125.976  94.713  95.779]\n",
      "[   9  220  294  297  349  425  505  690  980 1230 1241 1300 1413 1442\n",
      " 1852 1928]\n"
     ]
    }
   ],
   "source": [
    "\n",
    "print(df_not_std.to_numpy()[:, -1])\n",
    "subset = np.where(df_not_std.to_numpy()[:, -1] >= 200.)[0] \n",
    "print(subset)"
   ]
  },
  {
   "cell_type": "code",
   "execution_count": 176,
   "metadata": {},
   "outputs": [
    {
     "data": {
      "image/png": "[encoded data removed]",
      "text/plain": [
       "<Figure size 612x684 with 2 Axes>"
      ]
     },
     "metadata": {
      "needs_background": "light"
     },
     "output_type": "display_data"
    }
   ],
   "source": [
    "import matplotlib.pyplot as plt\n",
    "\n",
    "z_z0 = z_x_zscore[:, 0]*np.sqrt(mu_x_zscore[0])\n",
    "z_z1 = z_x_zscore[:, 1]*np.sqrt(mu_x_zscore[1])\n",
    "\n",
    "z_r0 = z_x_range[:, 0]*np.sqrt(mu_x_range[0])\n",
    "z_r1 = z_x_range[:, 1]*np.sqrt(mu_x_range[1])\n",
    "fig = plt.figure(figsize=(8.5, 9.5))\n",
    "\n",
    "ax = fig.add_subplot(121)\n",
    "ax.scatter(z_z0, z_z1)\n",
    "ax.scatter(z_z0[subset], z_z1[subset], c='r',)\n",
    "plt.title(\"PCA of Z-scoring standardized data\")\n",
    "\n",
    "ax = fig.add_subplot(122)\n",
    "ax.scatter(z_r0, z_r1)\n",
    "ax.scatter(z_r0[subset], z_r1[subset], c='r',)\n",
    "\n",
    "plt.title(\"PCA of Range standardatized data\")\n",
    "plt.show()"
   ]
  },
  {
   "cell_type": "code",
   "execution_count": 177,
   "metadata": {},
   "outputs": [
    {
     "data": {
      "text/plain": [
       "array([[-0.22858   , -0.68286121, -0.65393925, -0.23198105],\n",
       "       [-0.71369909,  0.04861478, -0.04857862,  0.69707269],\n",
       "       [ 0.65382539, -0.2922794 , -0.16398401,  0.67837627]])"
      ]
     },
     "execution_count": 177,
     "metadata": {},
     "output_type": "execute_result"
    }
   ],
   "source": [
    "# Loadings:\n",
    "c_x_zscore[:3, :]"
   ]
  },
  {
   "cell_type": "code",
   "execution_count": 179,
   "metadata": {},
   "outputs": [],
   "source": [
    "def conventional_pca(X, standardized=False):    \n",
    "    # Let us name x as original data set, \n",
    "    # restricted at selected subset of features, i.e. x_selected.\n",
    "    if standardized is False:\n",
    "        mean_x = np.mean(X, axis=0)\n",
    "        Y = np.subtract(X, mean_x)  # centered version\n",
    "        B = (Y.T@Y)/Y.shape[0]  # covariance matrix of Y\n",
    "        L, C = np.linalg.eig(B)  # Eigenvalues \n",
    "        sorted_idx = np.argsort(L)[::-1]  # descending order\n",
    "        la1 = L[sorted_idx[0]]\n",
    "        c1 = C[:, sorted_idx[0]]  # unlike np.linalg.svd now we should consider the column\n",
    "        pc1 = np.divide(Y@c1, np.sqrt(Y.shape[0]*la1))  # 1st principle component    \n",
    "        B_dot = B - la1*np.multiply(c1, c1.T)  # Residual of Cov.\n",
    "        L_, C_ = np.linalg.eig(B_dot)\n",
    "        argmax_ = np.argmax(L_)\n",
    "        la2 = L_[argmax_]\n",
    "        c2 = C_[:, argmax_]\n",
    "        pc2 = np.divide(Y@c2, np.sqrt(Y.shape[0]*la2))  # 2nd principle component \n",
    "    else:\n",
    "        Y = X\n",
    "        B = (Y.T@Y)/Y.shape[0]  # covariance matrix of Y\n",
    "        L, C = np.linalg.eig(B)\n",
    "        sorted_idx = np.argsort(L)[::-1]  # descending order\n",
    "        la1 = L[sorted_idx[0]]\n",
    "        c1 = C[:, sorted_idx[0]]  # unlike np.linalg.svd now we should consider the column\n",
    "        pc1 = np.divide(Y@c1, np.sqrt(Y.shape[0]*la1))  # 1st principle component    \n",
    "        la2 = L[sorted_idx[1]]\n",
    "        c2 = -C[:, sorted_idx[1]]  # unlike np.linalg.svd now we should consider the column\n",
    "        pc2 = np.divide(Y@c2, np.sqrt(Y.shape[0]*la2))  # 2nd principle component \n",
    "    \n",
    "    return pc1, pc2"
   ]
  },
  {
   "cell_type": "code",
   "execution_count": 181,
   "metadata": {},
   "outputs": [],
   "source": [
    "pc1_x, pc2_x = conventional_pca(X=df_not_std, standardized=False)"
   ]
  },
  {
   "cell_type": "code",
   "execution_count": 183,
   "metadata": {},
   "outputs": [],
   "source": [
    "pc1_x_z, pc2_x_z = conventional_pca(X=df_z_std, standardized=True)"
   ]
  },
  {
   "cell_type": "code",
   "execution_count": 185,
   "metadata": {},
   "outputs": [],
   "source": [
    "from sklearn.decomposition import PCA\n",
    "pca = PCA(n_components=2)\n",
    "pcas = pca.fit_transform(df_z_std)\n",
    "pc1, pc2 = pcas[:, 0], pcas[:, 1]"
   ]
  },
  {
   "cell_type": "code",
   "execution_count": 186,
   "metadata": {},
   "outputs": [
    {
     "name": "stderr",
     "output_type": "stream",
     "text": [
      "c:\\users\\hp\\pycharmprojects\\pythonproject1\\venv\\lib\\site-packages\\numpy\\core\\_asarray.py:136: ComplexWarning: Casting complex values to real discards the imaginary part\n",
      "  return array(a, dtype, copy=False, order=order, subok=True)\n"
     ]
    },
    {
     "data": {
      "image/png": "[encoded data removed]",
      "text/plain": [
       "<Figure size 1404x756 with 5 Axes>"
      ]
     },
     "metadata": {
      "needs_background": "light"
     },
     "output_type": "display_data"
    }
   ],
   "source": [
    "\n",
    "fig = plt.figure(figsize=(19.5, 10.5))\n",
    "\n",
    "ax = fig.add_subplot(151)\n",
    "ax.scatter(z_z0, z_z1)\n",
    "ax.scatter(z_z0[subset], z_z1[subset], c='r',)\n",
    "plt.title(\"PCA of Z-scoring data(SVD)\")\n",
    "\n",
    "\n",
    "ax = fig.add_subplot(152)\n",
    "ax.scatter(pc1_x_z, pc2_x_z)\n",
    "ax.scatter(pc1_x_z[subset], pc2_x_z[subset], c='r',)\n",
    "plt.title(\"Conventional PCA of Z-scored\")\n",
    "\n",
    "ax = fig.add_subplot(153)\n",
    "ax.scatter(pc1, pc2)\n",
    "ax.scatter(pc1[subset], pc2[subset], c='r',)\n",
    "plt.title(\"Output of Sklearn\")\n",
    "\n",
    "ax = fig.add_subplot(154)\n",
    "plt.scatter(z_r0, z_r1)\n",
    "ax.scatter(z_r0[subset], z_r1[subset], c='r',)\n",
    "plt.title(\"PCA of Range data(SVD)\")\n",
    "\n",
    "ax = fig.add_subplot(155)\n",
    "ax.scatter(pc1_x, pc2_x)\n",
    "ax.scatter(pc1_x[subset], pc2_x[subset], c='r',)\n",
    "plt.title(\"Conventional PCA of not standardized data\")\n",
    "\n",
    "plt.show()"
   ]
  }
 ],
 "metadata": {
  "kernelspec": {
   "display_name": "Python 3",
   "language": "python",
   "name": "python3"
  },
  "language_info": {
   "codemirror_mode": {
    "name": "ipython",
    "version": 3
   },
   "file_extension": ".py",
   "mimetype": "text/x-python",
   "name": "python",
   "nbconvert_exporter": "python",
   "pygments_lexer": "ipython3",
   "version": "3.8.5"
  }
 },
 "nbformat": 4,
 "nbformat_minor": 4
}